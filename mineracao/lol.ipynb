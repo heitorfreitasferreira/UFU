{
 "cells": [
  {
   "cell_type": "code",
   "execution_count": 86,
   "metadata": {},
   "outputs": [],
   "source": [
    "import pandas as pd\n",
    "import numpy as np\n",
    "from matplotlib import pyplot as plt"
   ]
  },
  {
   "cell_type": "code",
   "execution_count": 98,
   "metadata": {},
   "outputs": [
    {
     "name": "stderr",
     "output_type": "stream",
     "text": [
      "C:\\Users\\heitor.ferreira\\AppData\\Local\\Temp\\ipykernel_2852\\2369331098.py:1: DtypeWarning: Columns (2) have mixed types. Specify dtype option on import or set low_memory=False.\n",
      "  df = pd.read_csv('data/all_matches_2022.csv')\n"
     ]
    }
   ],
   "source": [
    "df = pd.read_csv('data/all_matches_2022.csv')\n",
    "# https://www.kaggle.com/datasets/arthur1511/lol-esports-2022"
   ]
  },
  {
   "cell_type": "code",
   "execution_count": 88,
   "metadata": {},
   "outputs": [],
   "source": [
    "head = df.head(20)"
   ]
  },
  {
   "cell_type": "code",
   "execution_count": 99,
   "metadata": {},
   "outputs": [],
   "source": [
    "leagues = ['LCK', 'SL', 'LCK CL', 'NLC', 'PRM', 'VCS', 'LMF', 'LCS', 'PCS', 'LFL','CBLOL', 'LEC', 'LAS', 'TCL', 'LJL', 'LCO', 'LPLOL', 'NEXO', 'LLA', 'EBL', 'GL', 'PGN', 'WCS','MSI', 'CDF','LCL']\n",
    "\n",
    "filtered_df = df.loc[\n",
    "        (df['position'] == 'team') &\n",
    "        (df['datacompleteness'] == 'complete') &\n",
    "        (df['league'].isin(leagues))\n",
    "    ]"
   ]
  },
  {
   "cell_type": "code",
   "execution_count": 100,
   "metadata": {},
   "outputs": [],
   "source": [
    "removed_columns = [\n",
    "        'datacompleteness', \n",
    "        'year',\n",
    "        'position',\n",
    "        'gameid',\n",
    "        'url',\n",
    "        'date',\n",
    "        'playerid',\n",
    "        'split',\n",
    "        'playoffs',\n",
    "        'patch',\n",
    "        'participantid',\n",
    "        'playername',\n",
    "        'teamid',\n",
    "        'champion',\n",
    "        'firstbloodkill',\n",
    "        'firstbloodassist',\n",
    "        'firstbloodvictim',\n",
    "        'dragons (type unknown)',\n",
    "        'damageshare',\n",
    "        'earnedgold',\n",
    "        'earned gpm',\n",
    "        'earnedgoldshare',\n",
    "        'goldspent',\n",
    "        'gspd',\n",
    "        'total cs',\n",
    "        'monsterkillsownjungle',\n",
    "        'monsterkillsenemyjungle',\n",
    "        'damagetochampions',\n",
    "        'wardskilled',\n",
    "        'visionscore',\n",
    "        'goldat10',\n",
    "        'xpat10',\n",
    "        'csat10',\n",
    "        'opp_goldat10',\n",
    "        'opp_xpat10',\n",
    "        'opp_csat10',\n",
    "        'goldat15',\n",
    "        'xpat15',\n",
    "        'csat15',\n",
    "        'opp_goldat15',\n",
    "        'opp_xpat15',\n",
    "        'opp_csat15',\n",
    "        'wardsplaced',\n",
    "    ]\n",
    "filtered_df = filtered_df.drop(columns=removed_columns)"
   ]
  },
  {
   "cell_type": "code",
   "execution_count": 101,
   "metadata": {},
   "outputs": [],
   "source": [
    "divide_per_time = [\n",
    "    'totalgold',\n",
    "    'minionkills',\n",
    "    'monsterkills',\n",
    "]\n",
    "for column in divide_per_time:\n",
    "    filtered_df[column] = filtered_df[column] / (filtered_df['gamelength']/60)\n",
    "\n",
    "filtered_df['gamelength'] = filtered_df['gamelength'] / 60"
   ]
  },
  {
   "cell_type": "code",
   "execution_count": 102,
   "metadata": {},
   "outputs": [],
   "source": [
    "new_names = {}\n",
    "for column in divide_per_time:\n",
    "    new_names[column] = column + '_per_minute'\n",
    "\n",
    "\n",
    "filtered_df = filtered_df.rename(columns=new_names)\n"
   ]
  },
  {
   "cell_type": "code",
   "execution_count": 105,
   "metadata": {},
   "outputs": [],
   "source": [
    "normalize_columns = [\n",
    "        'kills',\n",
    "        'deaths',\n",
    "        'assists',\n",
    "        'teamkills',\n",
    "        'teamdeaths',\n",
    "        'doublekills',\n",
    "        'triplekills',\n",
    "        'quadrakills',\n",
    "        'pentakills',\n",
    "        'team kpm',\n",
    "        'dragons',\n",
    "        'opp_dragons',\n",
    "        'elementaldrakes',\n",
    "        'opp_elementaldrakes',\n",
    "        'infernals',\n",
    "        'mountains',\n",
    "        'clouds',\n",
    "        'oceans',\n",
    "        'chemtechs',\n",
    "        'hextechs',\n",
    "        'elders',\n",
    "        'opp_elders',\n",
    "        'heralds',\n",
    "        'opp_heralds',\n",
    "        'barons',\n",
    "        'opp_barons',\n",
    "        'towers',\n",
    "        'opp_towers',\n",
    "        'turretplates',\n",
    "        'opp_turretplates',\n",
    "        'inhibitors',\n",
    "        'opp_inhibitors',\n",
    "        # 'damagetochampions',\n",
    "        'controlwardsbought',\n",
    "]\n",
    "for column in normalize_columns: \n",
    "        filtered_df[column] = (filtered_df[column] - filtered_df[column].mean()) / filtered_df[column].std() "
   ]
  }
 ],
 "metadata": {
  "kernelspec": {
   "display_name": "Python 3",
   "language": "python",
   "name": "python3"
  },
  "language_info": {
   "name": "python",
   "version": "3.11.1"
  },
  "orig_nbformat": 4
 },
 "nbformat": 4,
 "nbformat_minor": 2
}
